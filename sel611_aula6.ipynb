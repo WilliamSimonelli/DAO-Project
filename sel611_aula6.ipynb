{
  "nbformat": 4,
  "nbformat_minor": 0,
  "metadata": {
    "colab": {
      "name": "sel611_aula6.ipynb",
      "provenance": [],
      "include_colab_link": true
    },
    "kernelspec": {
      "name": "python3",
      "display_name": "Python 3"
    },
    "language_info": {
      "name": "python"
    }
  },
  "cells": [
    {
      "cell_type": "markdown",
      "metadata": {
        "id": "view-in-github",
        "colab_type": "text"
      },
      "source": [
        "<a href=\"https://colab.research.google.com/github/WilliamSimonelli/DAO-Project/blob/master/sel611_aula6.ipynb\" target=\"_parent\"><img src=\"https://colab.research.google.com/assets/colab-badge.svg\" alt=\"Open In Colab\"/></a>"
      ]
    },
    {
      "cell_type": "markdown",
      "metadata": {
        "id": "SEkwsu2PAPxs"
      },
      "source": [
        "# SEL0611 - Fundamentos de Controle\n",
        "\n",
        "Este é um exemplo do uso da biblioteca [Python Control System](https://github.com/python-control/python-control) para representar o modelo dinâmico de um sistema.\n",
        "\n",
        "A documentação da biblioteca pode ser consultada nesse [link](https://python-control.readthedocs.io/en/0.9.0/).\n",
        "\n",
        "## Carregar a biblioteca no Colab\n",
        "\n",
        "Execute o comando a seguir para instalar a biblioteca no ambiente do Colab:"
      ]
    },
    {
      "cell_type": "code",
      "metadata": {
        "colab": {
          "base_uri": "https://localhost:8080/"
        },
        "id": "iAlcQkldyy4_",
        "outputId": "6f38a18e-2d9a-4500-c249-9dd2e744fd1a"
      },
      "source": [
        "# !pip install slycot # biblioteca opcional\n",
        "!pip install control"
      ],
      "execution_count": 1,
      "outputs": [
        {
          "output_type": "stream",
          "text": [
            "Collecting control\n",
            "\u001b[?25l  Downloading https://files.pythonhosted.org/packages/88/87/ee6cb7cdcf4efe5634231bd688b307773629a100ec4c83b0c3eb03edd39d/control-0.9.0.tar.gz (339kB)\n",
            "\r\u001b[K     |█                               | 10kB 16.8MB/s eta 0:00:01\r\u001b[K     |██                              | 20kB 25.0MB/s eta 0:00:01\r\u001b[K     |███                             | 30kB 31.5MB/s eta 0:00:01\r\u001b[K     |███▉                            | 40kB 19.2MB/s eta 0:00:01\r\u001b[K     |████▉                           | 51kB 17.3MB/s eta 0:00:01\r\u001b[K     |█████▉                          | 61kB 19.8MB/s eta 0:00:01\r\u001b[K     |██████▊                         | 71kB 11.2MB/s eta 0:00:01\r\u001b[K     |███████▊                        | 81kB 12.2MB/s eta 0:00:01\r\u001b[K     |████████▊                       | 92kB 13.0MB/s eta 0:00:01\r\u001b[K     |█████████▋                      | 102kB 12.9MB/s eta 0:00:01\r\u001b[K     |██████████▋                     | 112kB 12.9MB/s eta 0:00:01\r\u001b[K     |███████████▋                    | 122kB 12.9MB/s eta 0:00:01\r\u001b[K     |████████████▋                   | 133kB 12.9MB/s eta 0:00:01\r\u001b[K     |█████████████▌                  | 143kB 12.9MB/s eta 0:00:01\r\u001b[K     |██████████████▌                 | 153kB 12.9MB/s eta 0:00:01\r\u001b[K     |███████████████▌                | 163kB 12.9MB/s eta 0:00:01\r\u001b[K     |████████████████▍               | 174kB 12.9MB/s eta 0:00:01\r\u001b[K     |█████████████████▍              | 184kB 12.9MB/s eta 0:00:01\r\u001b[K     |██████████████████▍             | 194kB 12.9MB/s eta 0:00:01\r\u001b[K     |███████████████████▎            | 204kB 12.9MB/s eta 0:00:01\r\u001b[K     |████████████████████▎           | 215kB 12.9MB/s eta 0:00:01\r\u001b[K     |█████████████████████▎          | 225kB 12.9MB/s eta 0:00:01\r\u001b[K     |██████████████████████▎         | 235kB 12.9MB/s eta 0:00:01\r\u001b[K     |███████████████████████▏        | 245kB 12.9MB/s eta 0:00:01\r\u001b[K     |████████████████████████▏       | 256kB 12.9MB/s eta 0:00:01\r\u001b[K     |█████████████████████████▏      | 266kB 12.9MB/s eta 0:00:01\r\u001b[K     |██████████████████████████      | 276kB 12.9MB/s eta 0:00:01\r\u001b[K     |███████████████████████████     | 286kB 12.9MB/s eta 0:00:01\r\u001b[K     |████████████████████████████    | 296kB 12.9MB/s eta 0:00:01\r\u001b[K     |█████████████████████████████   | 307kB 12.9MB/s eta 0:00:01\r\u001b[K     |██████████████████████████████  | 317kB 12.9MB/s eta 0:00:01\r\u001b[K     |███████████████████████████████ | 327kB 12.9MB/s eta 0:00:01\r\u001b[K     |███████████████████████████████▉| 337kB 12.9MB/s eta 0:00:01\r\u001b[K     |████████████████████████████████| 348kB 12.9MB/s \n",
            "\u001b[?25hRequirement already satisfied: numpy in /usr/local/lib/python3.7/dist-packages (from control) (1.19.5)\n",
            "Requirement already satisfied: scipy in /usr/local/lib/python3.7/dist-packages (from control) (1.4.1)\n",
            "Requirement already satisfied: matplotlib in /usr/local/lib/python3.7/dist-packages (from control) (3.2.2)\n",
            "Requirement already satisfied: pyparsing!=2.0.4,!=2.1.2,!=2.1.6,>=2.0.1 in /usr/local/lib/python3.7/dist-packages (from matplotlib->control) (2.4.7)\n",
            "Requirement already satisfied: kiwisolver>=1.0.1 in /usr/local/lib/python3.7/dist-packages (from matplotlib->control) (1.3.1)\n",
            "Requirement already satisfied: cycler>=0.10 in /usr/local/lib/python3.7/dist-packages (from matplotlib->control) (0.10.0)\n",
            "Requirement already satisfied: python-dateutil>=2.1 in /usr/local/lib/python3.7/dist-packages (from matplotlib->control) (2.8.1)\n",
            "Requirement already satisfied: six in /usr/local/lib/python3.7/dist-packages (from cycler>=0.10->matplotlib->control) (1.15.0)\n",
            "Building wheels for collected packages: control\n",
            "  Building wheel for control (setup.py) ... \u001b[?25l\u001b[?25hdone\n",
            "  Created wheel for control: filename=control-0.9.0-py2.py3-none-any.whl size=344920 sha256=5653083d7d39580509eb5781893b1299ce7b30798d3d38f8b91b38d46957ce00\n",
            "  Stored in directory: /root/.cache/pip/wheels/35/be/ee/081b68ca3e4b2d253fba2f7f7e51960373903fb7b6d13c5532\n",
            "Successfully built control\n",
            "Installing collected packages: control\n",
            "Successfully installed control-0.9.0\n"
          ],
          "name": "stdout"
        }
      ]
    },
    {
      "cell_type": "markdown",
      "metadata": {
        "id": "fRn18DmJzYmp"
      },
      "source": [
        "Carregue as bibiotecas:"
      ]
    },
    {
      "cell_type": "code",
      "metadata": {
        "id": "nB5sDg-5yMnt"
      },
      "source": [
        "import os\n",
        "import numpy as np\n",
        "import matplotlib.pyplot as plt\n",
        "from math import pi\n",
        "import control as ct\n",
        "from control.matlab import *"
      ],
      "execution_count": 3,
      "outputs": []
    },
    {
      "cell_type": "markdown",
      "metadata": {
        "id": "m1dr1yjYBS1k"
      },
      "source": [
        "## Modelo dinâmico de um sistema"
      ]
    },
    {
      "cell_type": "markdown",
      "metadata": {
        "id": "CZheJjZPBX0b"
      },
      "source": [
        "### Função de Transferência\n",
        "\n",
        "De forma geral, uma função de transferência pode ser expressa da seguinte forma:\n",
        "\n",
        "$$ G(s) = \\frac{b_{0} + b_{1}s^{-1}+...+b_{n-1} s^{-(n-1)} + b_n s^{-n}}{1 + a_1s^{-1} + ... + a_{n-1} s^{-(n-1)} + a_n s^{-n}}  =\\frac{b_{0}s^n + b_{1}s^{n-1}+...+b_{n-1} s + b_n}{s^n + a_1s^{n-1} + ... + a_{n-1} s + a_n} $$\n",
        "para sistemas realizáveis $b_0 =0 $, ou seja, a ordem do polinômio do numerador é menor que do denominador.\n",
        "\n",
        "#### Exemplo:\n",
        "\n",
        "Considere o sistema de suspensão veícular apresentado em aula, com a seguinte função de transferência:\n",
        "\n",
        "$$  \\frac{Y(s)}{R(s)} = \\frac{\\frac{k_w b}{m_1 m_2} (s + \\frac{k_s}{b})}{s^4 + (\\frac{b}{m_1}+ \\frac{b}{m_2})s^3 + (\\frac{k_s}{m_1}+ \\frac{k_s}{m_2} + \\frac{k_w}{m_1})s^2 + (\\frac{k_w b}{m_1 m_2})s + \\frac{k_w k_s}{m_1 m_2}}  $$\n",
        "\n"
      ]
    },
    {
      "cell_type": "code",
      "metadata": {
        "id": "d08Oghjc0P5K"
      },
      "source": [
        "# Parâmetros do modelo da suspensão:\n",
        "kw = 1e6\n",
        "ks = 130000\n",
        "b = 9800\n",
        "m1 = 20\n",
        "m2 = 375\n",
        "\n",
        "a1 = b/m1 + b/m2\n",
        "a2 = kw/m1 + ks/m2 + kw/m1\n",
        "a3 = kw*b/(m1*m2)\n",
        "a4 = kw*ks/(m1*m2)\n",
        "\n",
        "b1=0\n",
        "b2=0\n",
        "b3 = kw*b/(m1*m2)\n",
        "b4 = kw*b*ks/(m1*m2*b)"
      ],
      "execution_count": 4,
      "outputs": []
    },
    {
      "cell_type": "markdown",
      "metadata": {
        "id": "0azNxiJdFT78"
      },
      "source": [
        "A função de transferência pode ser definida usando a biblioteca:"
      ]
    },
    {
      "cell_type": "code",
      "metadata": {
        "id": "ERioLj5kFRTk",
        "colab": {
          "base_uri": "https://localhost:8080/"
        },
        "outputId": "11723e16-7007-45b3-dbba-507c6248889f"
      },
      "source": [
        "# Função de transferência:\n",
        "num = np.array([b1, b2, b3, b4])\n",
        "den = np.array([1, a1, a2, a3, a4])\n",
        "Gtf = ct.tf(num, den)\n",
        "\n",
        "print('G(s) = {}'.format(Gtf))"
      ],
      "execution_count": 5,
      "outputs": [
        {
          "output_type": "stream",
          "text": [
            "G(s) = \n",
            "                 1.307e+06 s + 1.733e+07\n",
            "---------------------------------------------------------\n",
            "s^4 + 516.1 s^3 + 1.003e+05 s^2 + 1.307e+06 s + 1.733e+07\n",
            "\n"
          ],
          "name": "stdout"
        }
      ]
    },
    {
      "cell_type": "markdown",
      "metadata": {
        "id": "ylKinZHcGjK-"
      },
      "source": [
        "Observe que primeiro dois vetores foram definidos contendo os coeficientes dos polinômios do numerador e do denominador. Em seguida, a função de transferência foi definida usando o comando `ct.ft` que recebe os dois vetores como argumento.\n"
      ]
    },
    {
      "cell_type": "markdown",
      "metadata": {
        "id": "rxFq6bJuHpGm"
      },
      "source": [
        "### Espaço de Estados\n",
        "\n",
        "Um sistema modelado na forma de espaço de estados é representado por:\n",
        "\n",
        "$$ \\mathbf{\\dot x} = \\mathbf{A} \\mathbf{x} + \\mathbf{B} \\mathbf{u} \\\\ \\mathbf{y} = \\mathbf{C} \\mathbf{x} + \\mathbf{D} \\mathbf{u}$$\n",
        "\n",
        "#### Exemplo:\n",
        "\n",
        "O sistema de suspensão veícular apresentado em aula pode ser representado em espaço de estados por:\n",
        "\n",
        "\\begin{align} \n",
        "&\\begin{bmatrix}  \\dot x_1 \\\\ \\dot x_2 \\\\ \\dot x_3 \\\\ \\dot x_4 \\end{bmatrix} = \\begin{bmatrix}  0 & 1 & 0 & 0 \\\\ -\\frac{(k_s+k_w)}{m_1} & -\\frac{b}{m_1} & \\frac{k_s}{m_1} & \\frac{b}{m_1} \\\\ \t0 & 0 & 0 & 1 \\\\ \\frac{k_s}{m_2} & \\frac{b}{m_2} & -\\frac{k_s}{m_2} & -\\frac{b}{m_2} \\end{bmatrix} \t\n",
        "\\begin{bmatrix}  x_1 \\\\ x_2 \\\\ x_3 \\\\ x_4 \\end{bmatrix} + \\begin{bmatrix}  0 \\\\ \\frac{k_w}{m_1} \\\\ 0\\\\ 0  \\end{bmatrix} u \t\\\\ \n",
        "&y= \\begin{bmatrix}  0 & 0 & 1 & 0 \\end{bmatrix} \\begin{bmatrix}  x_1 \\\\ x_2 \\\\ x_3 \\\\ x_4 \\end{bmatrix}  + 0  u \n",
        "\\end{align}\t\n",
        "\n",
        "Considerando as escolhas de variáveis de estado apresentadas em aula 4, mas modificando a saída para que seja igual a posição do carro $x_3$.\n",
        "\n",
        "A representação em espaço de estados da suspensão veícular pode ser definida utilizando a biblioteca:\n"
      ]
    },
    {
      "cell_type": "code",
      "metadata": {
        "id": "MJ-XiUIIGEF-",
        "colab": {
          "base_uri": "https://localhost:8080/"
        },
        "outputId": "1f7b2927-be59-4dbe-e0b9-7e2e8e2cadb3"
      },
      "source": [
        "# System matrices\n",
        "A = [[0, 1., 0, 0], [-(ks+kw)/m1, -b/m1, ks/m1, b/m1], [0, 0, 0, 1.], [ks/m2, b/m2, -ks/m2, -b/m2]]\n",
        "B = [[0], [kw/m1], [0], [0]]\n",
        "C = [[0, 0, 1., 0]]\n",
        "Gss = ss(A, B, C, 0)\n",
        "print(Gss)"
      ],
      "execution_count": null,
      "outputs": [
        {
          "output_type": "stream",
          "text": [
            "A = [[ 0.00000000e+00  1.00000000e+00  0.00000000e+00  0.00000000e+00]\n",
            "     [-5.65000000e+04 -4.90000000e+02  6.50000000e+03  4.90000000e+02]\n",
            "     [ 0.00000000e+00  0.00000000e+00  0.00000000e+00  1.00000000e+00]\n",
            "     [ 3.46666667e+02  2.61333333e+01 -3.46666667e+02 -2.61333333e+01]]\n",
            "\n",
            "B = [[    0.]\n",
            "     [50000.]\n",
            "     [    0.]\n",
            "     [    0.]]\n",
            "\n",
            "C = [[0. 0. 1. 0.]]\n",
            "\n",
            "D = [[0.]]\n",
            "\n"
          ],
          "name": "stdout"
        }
      ]
    },
    {
      "cell_type": "markdown",
      "metadata": {
        "id": "wsoL1XWZN-20"
      },
      "source": [
        "Também é posível fazer a conversão de função de transferência para espaço de estados:"
      ]
    },
    {
      "cell_type": "code",
      "metadata": {
        "id": "UwGFO6TQON7Q",
        "colab": {
          "base_uri": "https://localhost:8080/"
        },
        "outputId": "958b84c1-e05b-47a6-ef74-fc9e01ce1a64"
      },
      "source": [
        "Hss = tf2ss(Gtf)\n",
        "print(Hss)"
      ],
      "execution_count": null,
      "outputs": [
        {
          "output_type": "stream",
          "text": [
            "A = [[-5.16133333e+02 -1.00346667e+05 -1.30666667e+06 -1.73333333e+07]\n",
            "     [ 1.00000000e+00  0.00000000e+00  0.00000000e+00  0.00000000e+00]\n",
            "     [ 0.00000000e+00  1.00000000e+00  0.00000000e+00  0.00000000e+00]\n",
            "     [ 0.00000000e+00  0.00000000e+00  1.00000000e+00  0.00000000e+00]]\n",
            "\n",
            "B = [[1.]\n",
            "     [0.]\n",
            "     [0.]\n",
            "     [0.]]\n",
            "\n",
            "C = [[       0.                0.          1306666.66666667 17333333.33333333]]\n",
            "\n",
            "D = [[0.]]\n",
            "\n"
          ],
          "name": "stdout"
        }
      ]
    },
    {
      "cell_type": "markdown",
      "metadata": {
        "id": "9s9zNOfzOXwz"
      },
      "source": [
        "Perceba que as matrizes são diferentes pois a escolha dos estados pela biblioteca foi outra. A bibioteca utilizou uma representação do sistema em espaço de estados na **forma canônica de controle**.  \n",
        "\n",
        "Mas se convertermos de volta de espaço de estado para função de transferência, obtemos o mesmo resultado:"
      ]
    },
    {
      "cell_type": "code",
      "metadata": {
        "id": "lrjYjHhLOwBf",
        "colab": {
          "base_uri": "https://localhost:8080/"
        },
        "outputId": "eb841569-8d8d-46eb-8734-c7d3cf161fac"
      },
      "source": [
        "Htf = ss2tf(Hss)\n",
        "print(Htf) # Conversão da representação em espaço de estados Hss para função de transferência\n",
        "print(ss2tf(Gss)) # Conversão da representação em espaço de estados Gss para função de transferência\n",
        "print(Gtf) # Função de transferência original"
      ],
      "execution_count": null,
      "outputs": [
        {
          "output_type": "stream",
          "text": [
            "\n",
            "-6.821e-13 s^3 - 2.183e-10 s^2 + 1.307e+06 s + 1.733e+07\n",
            "---------------------------------------------------------\n",
            "s^4 + 516.1 s^3 + 1.003e+05 s^2 + 1.307e+06 s + 1.733e+07\n",
            "\n",
            "\n",
            "-4.547e-13 s^3 - 8.004e-11 s^2 + 1.307e+06 s + 1.733e+07\n",
            "---------------------------------------------------------\n",
            "s^4 + 516.1 s^3 + 5.685e+04 s^2 + 1.307e+06 s + 1.733e+07\n",
            "\n",
            "\n",
            "                 1.307e+06 s + 1.733e+07\n",
            "---------------------------------------------------------\n",
            "s^4 + 516.1 s^3 + 1.003e+05 s^2 + 1.307e+06 s + 1.733e+07\n",
            "\n"
          ],
          "name": "stdout"
        }
      ]
    },
    {
      "cell_type": "markdown",
      "metadata": {
        "id": "sTPlDtMKPVmC"
      },
      "source": [
        "### Resposta Transitória\n",
        "\n",
        "A resposta do sistema a uma entrada do tipo degrau unitário pode ser obtida utilizando a biblioteca através da seguinte sequencia de comandos:"
      ]
    },
    {
      "cell_type": "code",
      "metadata": {
        "colab": {
          "base_uri": "https://localhost:8080/",
          "height": 269
        },
        "id": "vCmv4txFoktI",
        "outputId": "5e537c26-d4e0-4de0-eb93-d64744d82311"
      },
      "source": [
        "# Resposta do sistema a uma entrada degrau unitário:\n",
        "plt.figure(1)\n",
        "yout, T = step(Gtf) # Aqui foi utilizada a função de transferência Gtf\n",
        "plt.plot(T.T, yout.T)\n",
        "plt.show(block=False)"
      ],
      "execution_count": null,
      "outputs": [
        {
          "output_type": "display_data",
          "data": {
            "image/png": "[encoded data removed]",
            "text/plain": [
              "<Figure size 432x288 with 1 Axes>"
            ]
          },
          "metadata": {
            "tags": [],
            "needs_background": "light"
          }
        }
      ]
    },
    {
      "cell_type": "markdown",
      "metadata": {
        "id": "UpswZFVHUMZr"
      },
      "source": [
        "É possível utilizar qualquer representação do sistema:"
      ]
    },
    {
      "cell_type": "code",
      "metadata": {
        "id": "41SQGl0MUIgS",
        "colab": {
          "base_uri": "https://localhost:8080/",
          "height": 769
        },
        "outputId": "e7f2e653-8a1b-4cbe-ff63-7be9dbfebe0d"
      },
      "source": [
        "# Resposta do sistema a uma entrada degrau unitário:\n",
        "plt.figure(1)\n",
        "yout, T = step(Gss)\n",
        "plt.plot(T.T, yout.T)\n",
        "plt.show(block=False)\n",
        "\n",
        "# Resposta do sistema a uma entrada degrau unitário:\n",
        "plt.figure(1)\n",
        "yout, T = step(Hss)\n",
        "plt.plot(T.T, yout.T)\n",
        "plt.show(block=False)\n",
        "\n",
        "# Resposta do sistema a uma entrada degrau unitário:\n",
        "plt.figure(1)\n",
        "yout, T = step(Htf)\n",
        "plt.plot(T.T, yout.T)\n",
        "plt.show(block=False)\n"
      ],
      "execution_count": null,
      "outputs": [
        {
          "output_type": "display_data",
          "data": {
            "image/png": "[encoded data removed]",
            "text/plain": [
              "<Figure size 432x288 with 1 Axes>"
            ]
          },
          "metadata": {
            "tags": [],
            "needs_background": "light"
          }
        },
        {
          "output_type": "display_data",
          "data": {
            "image/png": "[encoded data removed]",
            "text/plain": [
              "<Figure size 432x288 with 1 Axes>"
            ]
          },
          "metadata": {
            "tags": [],
            "needs_background": "light"
          }
        },
        {
          "output_type": "display_data",
          "data": {
            "image/png": "[encoded data removed]",
            "text/plain": [
              "<Figure size 432x288 with 1 Axes>"
            ]
          },
          "metadata": {
            "tags": [],
            "needs_background": "light"
          }
        }
      ]
    }
  ]
}